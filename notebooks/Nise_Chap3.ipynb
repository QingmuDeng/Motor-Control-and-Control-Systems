{
 "cells": [
  {
   "cell_type": "code",
   "execution_count": 1,
   "id": "1e652d20-75a6-4bc8-9f19-9d7e17f65adc",
   "metadata": {},
   "outputs": [],
   "source": [
    "using ControlSystems"
   ]
  },
  {
   "cell_type": "code",
   "execution_count": 34,
   "id": "74ef3c9f-33d6-4581-8181-d603f191e491",
   "metadata": {},
   "outputs": [
    {
     "data": {
      "text/plain": [
       "TransferFunction{Continuous, ControlSystemsBase.SisoRational{Int64}}\n",
       "    s^2 + 7s + 2\n",
       "---------------------\n",
       "s^3 + 9s^2 + 26s + 24\n",
       "\n",
       "Continuous-time transfer function model"
      ]
     },
     "execution_count": 34,
     "metadata": {},
     "output_type": "execute_result"
    }
   ],
   "source": [
    "num = [1, 7, 2]\n",
    "den = [1, 9, 26, 24]\n",
    "\n",
    "\n",
    "\n",
    "myss = ss(tf(num, den,))\n",
    "\n",
    "P = [0 0 1; 0 1 0; 1 0 0]\n",
    "A = inv(P)*myss.A*P\n",
    "B = inv(P)*myss.B\n",
    "C = myss.C*P\n",
    "tf(num, den,)"
   ]
  },
  {
   "cell_type": "code",
   "execution_count": 35,
   "id": "4bc9bcfe-3436-4b76-9f07-e064e9dbb971",
   "metadata": {},
   "outputs": [
    {
     "data": {
      "text/plain": [
       "3×3 Matrix{Float64}:\n",
       " -9.0  -6.5  -3.0\n",
       "  4.0   0.0   0.0\n",
       "  0.0   2.0   0.0"
      ]
     },
     "execution_count": 35,
     "metadata": {},
     "output_type": "execute_result"
    }
   ],
   "source": [
    "A"
   ]
  },
  {
   "cell_type": "code",
   "execution_count": 36,
   "id": "9057288f-1c2d-4ddc-b88f-1d4943913485",
   "metadata": {},
   "outputs": [
    {
     "data": {
      "text/plain": [
       "3×1 Matrix{Float64}:\n",
       " 1.0\n",
       " 0.0\n",
       " 0.0"
      ]
     },
     "execution_count": 36,
     "metadata": {},
     "output_type": "execute_result"
    }
   ],
   "source": [
    "B"
   ]
  },
  {
   "cell_type": "code",
   "execution_count": 37,
   "id": "1a42e6c0-5e94-44ed-94a3-8ce1f9ab4a8b",
   "metadata": {},
   "outputs": [
    {
     "data": {
      "text/plain": [
       "1×3 Matrix{Float64}:\n",
       " 1.0  1.75  0.25"
      ]
     },
     "execution_count": 37,
     "metadata": {},
     "output_type": "execute_result"
    }
   ],
   "source": [
    "C"
   ]
  },
  {
   "cell_type": "code",
   "execution_count": 38,
   "id": "008aa762-f037-40fd-9c84-cde2a3e44605",
   "metadata": {},
   "outputs": [
    {
     "data": {
      "text/plain": [
       "StateSpace{Continuous, Float64}\n",
       "A = \n",
       "  0.0   2.0   0.0\n",
       "  0.0   0.0   4.0\n",
       " -3.0  -6.5  -9.0\n",
       "B = \n",
       " 0.0\n",
       " 0.0\n",
       " 1.0\n",
       "C = \n",
       " 0.25  1.75  1.0\n",
       "D = \n",
       " 0.0\n",
       "\n",
       "Continuous-time state-space model"
      ]
     },
     "execution_count": 38,
     "metadata": {},
     "output_type": "execute_result"
    }
   ],
   "source": [
    "myss"
   ]
  },
  {
   "cell_type": "code",
   "execution_count": 30,
   "id": "75aa705b-3d95-431e-b981-ae32ad6de318",
   "metadata": {},
   "outputs": [
    {
     "data": {
      "text/plain": [
       "3-element Vector{Float64}:\n",
       " -3.999999999999987\n",
       " -3.000000000000018\n",
       " -1.9999999999999973"
      ]
     },
     "execution_count": 30,
     "metadata": {},
     "output_type": "execute_result"
    }
   ],
   "source": [
    "eigvals(myss.A)"
   ]
  },
  {
   "cell_type": "code",
   "execution_count": 23,
   "id": "e4b3a104-c21d-4565-b861-dade29f0d990",
   "metadata": {},
   "outputs": [],
   "source": [
    "using LinearAlgebra, SparseArrays"
   ]
  },
  {
   "cell_type": "code",
   "execution_count": 27,
   "id": "706a0dea-15d3-4867-aa6e-9f4906609192",
   "metadata": {},
   "outputs": [
    {
     "ename": "LoadError",
     "evalue": "ArgumentError: Package pkg not found in current path.\n- Run `import Pkg; Pkg.add(\"pkg\")` to install the pkg package.",
     "output_type": "error",
     "traceback": [
      "ArgumentError: Package pkg not found in current path.\n- Run `import Pkg; Pkg.add(\"pkg\")` to install the pkg package.",
      "",
      "Stacktrace:",
      " [1] macro expansion",
      "   @ ./loading.jl:1772 [inlined]",
      " [2] macro expansion",
      "   @ ./lock.jl:267 [inlined]",
      " [3] __require(into::Module, mod::Symbol)",
      "   @ Base ./loading.jl:1753",
      " [4] #invoke_in_world#3",
      "   @ ./essentials.jl:926 [inlined]",
      " [5] invoke_in_world",
      "   @ ./essentials.jl:923 [inlined]",
      " [6] require(into::Module, mod::Symbol)",
      "   @ Base ./loading.jl:1746"
     ]
    }
   ],
   "source": [
    "using pkg\n",
    "pkg add RowEchelon"
   ]
  },
  {
   "cell_type": "code",
   "execution_count": 43,
   "id": "22e69a5b-2afe-4520-9cb1-0e80a143247f",
   "metadata": {},
   "outputs": [
    {
     "data": {
      "text/plain": [
       "2×2 Matrix{Float64}:\n",
       "  4.0   3.0\n",
       " -1.0  -1.0"
      ]
     },
     "execution_count": 43,
     "metadata": {},
     "output_type": "execute_result"
    }
   ],
   "source": [
    "inv([1 3; -1 -4])"
   ]
  },
  {
   "cell_type": "code",
   "execution_count": 44,
   "id": "d2ff6679-8e79-4485-b1a6-c9e28c1b7ef5",
   "metadata": {},
   "outputs": [
    {
     "data": {
      "text/plain": [
       "2×2 Matrix{Float64}:\n",
       " -2.0   0.0\n",
       "  0.0  -3.0"
      ]
     },
     "execution_count": 44,
     "metadata": {},
     "output_type": "execute_result"
    }
   ],
   "source": [
    "inv([1 3; -1 -4])*[1 3; -4 -6]*[1 3; -1 -4]"
   ]
  },
  {
   "cell_type": "code",
   "execution_count": 45,
   "id": "d8ec1782-30ab-46ca-a5e4-fa93ece716fd",
   "metadata": {},
   "outputs": [
    {
     "data": {
      "text/plain": [
       "2-element Vector{Float64}:\n",
       " 13.0\n",
       " -4.0"
      ]
     },
     "execution_count": 45,
     "metadata": {},
     "output_type": "execute_result"
    }
   ],
   "source": [
    "inv([1 3; -1 -4])*[1;3]"
   ]
  },
  {
   "cell_type": "code",
   "execution_count": 46,
   "id": "0250acbd-5f91-4396-917b-3d71f66d83a4",
   "metadata": {},
   "outputs": [
    {
     "data": {
      "text/plain": [
       "1×2 Matrix{Int64}:\n",
       " -3  -13"
      ]
     },
     "execution_count": 46,
     "metadata": {},
     "output_type": "execute_result"
    }
   ],
   "source": [
    "[1 4]*[1 3; -1 -4]"
   ]
  },
  {
   "cell_type": "markdown",
   "id": "bdbeaed4-a3c2-439a-a96a-7ef6628d0a28",
   "metadata": {},
   "source": [
    "## Finding Determinant of a Symbolic Matrix -- Chapter 5 for Routh Table"
   ]
  },
  {
   "cell_type": "code",
   "execution_count": 48,
   "id": "fc7385f8-a443-45b0-9812-997511e2482b",
   "metadata": {},
   "outputs": [
    {
     "data": {
      "text/latex": [
       "$$ \\begin{equation}\n",
       "a_{1}ˏ_1 a_{2}ˏ_2 - a_{1}ˏ_2 a_{2}ˏ_1\n",
       "\\end{equation}\n",
       " $$"
      ],
      "text/plain": [
       "a[1, 1]*a[2, 2] - a[1, 2]*a[2, 1]"
      ]
     },
     "execution_count": 48,
     "metadata": {},
     "output_type": "execute_result"
    }
   ],
   "source": [
    "using Symbolics, LinearAlgebra\n",
    "@variables a[1:2, 1:2]\n",
    "det(collect(a))"
   ]
  },
  {
   "cell_type": "code",
   "execution_count": 49,
   "id": "52d0de80-f046-4119-833f-87de491c659f",
   "metadata": {},
   "outputs": [
    {
     "data": {
      "text/latex": [
       "$$ \\begin{equation}\n",
       "\\left[\n",
       "\\begin{array}{c}\n",
       "a \\\\\n",
       "\\end{array}\n",
       "\\right]\n",
       "\\end{equation}\n",
       " $$"
      ],
      "text/plain": [
       "1-element Vector{Num}:\n",
       " a"
      ]
     },
     "execution_count": 49,
     "metadata": {},
     "output_type": "execute_result"
    }
   ],
   "source": [
    "@variables a"
   ]
  },
  {
   "cell_type": "code",
   "execution_count": 56,
   "id": "da6da6e0-69f8-4a44-9495-725a7844632f",
   "metadata": {},
   "outputs": [
    {
     "data": {
      "text/latex": [
       "$$ \\begin{equation}\n",
       "-43 + 25 a + 4 a^{2} - a^{3}\n",
       "\\end{equation}\n",
       " $$"
      ],
      "text/plain": [
       "-43 + 25a + 4(a^2) - (a^3)"
      ]
     },
     "execution_count": 56,
     "metadata": {},
     "output_type": "execute_result"
    }
   ],
   "source": [
    "# https://discourse.julialang.org/t/determinant-of-a-symbolic-matrix/85587\n",
    "# https://discourse.julialang.org/t/how-to-expand-a-polynomial-in-symbolics-jl/58530\n",
    "simplify(det(collect([2-a 1 1; 1 7-a 1; -3 -4 -5-a])), expand=true)"
   ]
  },
  {
   "cell_type": "code",
   "execution_count": 59,
   "id": "c495628a-c583-4694-8a3e-2cb0f66ba1a2",
   "metadata": {},
   "outputs": [
    {
     "data": {
      "text/latex": [
       "$$ \\begin{equation}\n",
       "43750 a^{2} + 3875 a^{3} + 110 a^{4} + a^{5}\n",
       "\\end{equation}\n",
       " $$"
      ],
      "text/plain": [
       "43750(a^2) + 3875(a^3) + 110(a^4) + a^5"
      ]
     },
     "execution_count": 59,
     "metadata": {},
     "output_type": "execute_result"
    }
   ],
   "source": [
    "simplify(a^2*(a+25)*(a+35)*(a+50),expand=true)"
   ]
  },
  {
   "cell_type": "markdown",
   "id": "8fc2ed6c-fd04-4557-8f93-f28bcf762190",
   "metadata": {},
   "source": [
    "## Steady State Error with Input Substitution"
   ]
  },
  {
   "cell_type": "code",
   "execution_count": 60,
   "id": "b5925557-ffd2-4893-a9e1-6351c8456543",
   "metadata": {},
   "outputs": [],
   "source": [
    "A = [0 1; -3 -6];\n",
    "B = [0; 1];\n",
    "C = [1 1];"
   ]
  },
  {
   "cell_type": "code",
   "execution_count": 63,
   "id": "7c0ca8a3-0a01-4144-baca-8aea1ee8cb52",
   "metadata": {},
   "outputs": [
    {
     "data": {
      "text/plain": [
       "1-element Vector{Float64}:\n",
       " 0.6666666666666667"
      ]
     },
     "execution_count": 63,
     "metadata": {},
     "output_type": "execute_result"
    }
   ],
   "source": [
    "[1] + C*inv(A)*B"
   ]
  },
  {
   "cell_type": "code",
   "execution_count": null,
   "id": "410d3e82-ee9b-4ccf-8cc0-f93e6ee09383",
   "metadata": {},
   "outputs": [],
   "source": []
  }
 ],
 "metadata": {
  "kernelspec": {
   "display_name": "Julia 1.10.1",
   "language": "julia",
   "name": "julia-1.10"
  },
  "language_info": {
   "file_extension": ".jl",
   "mimetype": "application/julia",
   "name": "julia",
   "version": "1.10.1"
  }
 },
 "nbformat": 4,
 "nbformat_minor": 5
}
