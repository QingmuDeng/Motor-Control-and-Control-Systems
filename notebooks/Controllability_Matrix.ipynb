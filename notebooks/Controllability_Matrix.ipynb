{
 "cells": [
  {
   "cell_type": "code",
   "execution_count": 41,
   "id": "dc2ecc44-6425-48ea-ac06-44619af4a673",
   "metadata": {},
   "outputs": [],
   "source": [
    "using LinearAlgebra\n",
    "using ControlSystems\n",
    "using Polynomials\n",
    "\n",
    "# http://web.mit.edu/julia_v0.6.2/julia/share/doc/julia/html/en/stdlib/linalg.html#Base.LinAlg.rank\n",
    "# https://juliacontrol.github.io/ControlSystems.jl/dev/lib/analysis/"
   ]
  },
  {
   "cell_type": "code",
   "execution_count": 42,
   "id": "d97462d0-0c3c-4860-a0e5-5723dcf22493",
   "metadata": {},
   "outputs": [
    {
     "data": {
      "text/html": [
       "10 &#43; 17&#8729;x &#43; 8&#8729;x<sup>2</sup> &#43; x<sup>3</sup>"
      ],
      "text/latex": [
       "$10 + 17\\cdot x + 8\\cdot x^{2} + x^{3}$"
      ],
      "text/plain": [
       "Polynomial(10 + 17*x + 8*x^2 + x^3)"
      ]
     },
     "execution_count": 42,
     "metadata": {},
     "output_type": "execute_result"
    }
   ],
   "source": [
    "fromroots([-1, -2, -5])"
   ]
  },
  {
   "cell_type": "code",
   "execution_count": 36,
   "id": "78f46398-3de2-480f-9a2e-29a66c01f615",
   "metadata": {},
   "outputs": [],
   "source": [
    "A = [-5 1 0; 0 -2 1; 0 0 -1];\n",
    "B = [0; 0; 1];"
   ]
  },
  {
   "cell_type": "code",
   "execution_count": 37,
   "id": "325dd0d7-e090-4c27-9cb0-48f10c37bd62",
   "metadata": {},
   "outputs": [
    {
     "data": {
      "text/plain": [
       "3×3 Matrix{Int64}:\n",
       " 0   0   1\n",
       " 0   1  -3\n",
       " 1  -1   1"
      ]
     },
     "execution_count": 37,
     "metadata": {},
     "output_type": "execute_result"
    }
   ],
   "source": [
    "C_m = [B A*B A^2*B]"
   ]
  },
  {
   "cell_type": "code",
   "execution_count": 38,
   "id": "dd2ecc74-5468-4255-ae52-cdf402559361",
   "metadata": {},
   "outputs": [
    {
     "data": {
      "text/plain": [
       "3"
      ]
     },
     "execution_count": 38,
     "metadata": {},
     "output_type": "execute_result"
    }
   ],
   "source": [
    "rank(C_m)"
   ]
  },
  {
   "cell_type": "code",
   "execution_count": 39,
   "id": "1c5d9628-410b-4802-acce-025f09190483",
   "metadata": {},
   "outputs": [
    {
     "data": {
      "text/plain": [
       "SVD{Float64, Float64, Matrix{Float64}, Vector{Float64}}\n",
       "U factor:\n",
       "3×3 Matrix{Float64}:\n",
       " -0.260537   0.261064  -0.929498\n",
       "  0.882243  -0.326652  -0.339037\n",
       " -0.392133  -0.908374  -0.145217\n",
       "singular values:\n",
       "3-element Vector{Float64}:\n",
       " 3.5586274797661286\n",
       " 1.128803838987751\n",
       " 0.24894246994009672\n",
       "Vt factor:\n",
       "3×3 Matrix{Float64}:\n",
       " -0.110192   0.358109  -0.927155\n",
       " -0.804723   0.515344   0.29469\n",
       " -0.583334  -0.778575  -0.231391"
      ]
     },
     "execution_count": 39,
     "metadata": {},
     "output_type": "execute_result"
    }
   ],
   "source": [
    "svd(C_m)"
   ]
  },
  {
   "cell_type": "code",
   "execution_count": 40,
   "id": "50ff5fcc-f8e7-4d9a-8856-6fb6221ef8a5",
   "metadata": {},
   "outputs": [
    {
     "data": {
      "text/plain": [
       "3×3 Matrix{Int64}:\n",
       " 0   0   1\n",
       " 0   1  -3\n",
       " 1  -1   1"
      ]
     },
     "execution_count": 40,
     "metadata": {},
     "output_type": "execute_result"
    }
   ],
   "source": [
    "ctrb(A, B)"
   ]
  },
  {
   "cell_type": "markdown",
   "id": "96bc8db1-600f-4d5b-b231-afab19598cf0",
   "metadata": {},
   "source": [
    "### Alternative Representation and Conversion to Phase Variable Form"
   ]
  },
  {
   "cell_type": "code",
   "execution_count": 121,
   "id": "de68ec6a-c044-4f0c-b3c6-3003d6d096ab",
   "metadata": {},
   "outputs": [],
   "source": [
    "Az = [-7 1 0; 0 -8 1; 0 0 -9];\n",
    "Bz = [0; 0; 1];\n",
    "Cz = [-1 1 0];"
   ]
  },
  {
   "cell_type": "code",
   "execution_count": 122,
   "id": "4deeb9ee-cc10-4731-9622-bed93d771e8a",
   "metadata": {},
   "outputs": [
    {
     "data": {
      "text/plain": [
       "3×3 Matrix{Int64}:\n",
       " 0   0    1\n",
       " 0   1  -17\n",
       " 1  -9   81"
      ]
     },
     "execution_count": 122,
     "metadata": {},
     "output_type": "execute_result"
    }
   ],
   "source": [
    "Cmz = ctrb(Az, Bz)"
   ]
  },
  {
   "cell_type": "code",
   "execution_count": 123,
   "id": "568c0f76-3b96-4c66-a4b6-10a7966c91ce",
   "metadata": {},
   "outputs": [
    {
     "data": {
      "text/plain": [
       "3"
      ]
     },
     "execution_count": 123,
     "metadata": {},
     "output_type": "execute_result"
    }
   ],
   "source": [
    "rank(Cmz)"
   ]
  },
  {
   "cell_type": "code",
   "execution_count": 124,
   "id": "bb7d6689-db34-44a0-a3da-cb501e2c4bfe",
   "metadata": {},
   "outputs": [
    {
     "data": {
      "text/html": [
       "504 &#43; 191&#8729;x &#43; 24&#8729;x<sup>2</sup> &#43; x<sup>3</sup>"
      ],
      "text/latex": [
       "$504 + 191\\cdot x + 24\\cdot x^{2} + x^{3}$"
      ],
      "text/plain": [
       "Polynomial(504 + 191*x + 24*x^2 + x^3)"
      ]
     },
     "execution_count": 124,
     "metadata": {},
     "output_type": "execute_result"
    }
   ],
   "source": [
    "poly_phase_var = fromroots([-9, -8, -7])"
   ]
  },
  {
   "cell_type": "code",
   "execution_count": 125,
   "id": "1594f015-8e23-49ae-92f0-07d2b797e1ab",
   "metadata": {},
   "outputs": [],
   "source": [
    "Ax = [0 1 0; 0 0 1; -504 -191 -24];\n",
    "Bx = [0; 0; 1];\n",
    "Cx = [6 1 0];"
   ]
  },
  {
   "cell_type": "code",
   "execution_count": 126,
   "id": "58c4ff2e-cd1a-40bf-aa22-c03b4babd6bd",
   "metadata": {},
   "outputs": [
    {
     "data": {
      "text/plain": [
       "3×3 Matrix{Int64}:\n",
       " 0    0    1\n",
       " 0    1  -24\n",
       " 1  -24  385"
      ]
     },
     "execution_count": 126,
     "metadata": {},
     "output_type": "execute_result"
    }
   ],
   "source": [
    "Cmx = ctrb(Ax, Bx)"
   ]
  },
  {
   "cell_type": "code",
   "execution_count": 127,
   "id": "e3fa3e61-ebe6-48a2-8795-8d8cb223200e",
   "metadata": {},
   "outputs": [
    {
     "data": {
      "text/plain": [
       "3×3 Matrix{Float64}:\n",
       "  1.0   0.0  0.0\n",
       "  7.0   1.0  0.0\n",
       " 56.0  15.0  1.0"
      ]
     },
     "execution_count": 127,
     "metadata": {},
     "output_type": "execute_result"
    }
   ],
   "source": [
    "P = Cmz*inv(Cmx)"
   ]
  },
  {
   "cell_type": "code",
   "execution_count": 128,
   "id": "c59056a4-cd35-4df9-b109-05211085afab",
   "metadata": {},
   "outputs": [
    {
     "data": {
      "text/plain": [
       "0.4559498107691261"
      ]
     },
     "execution_count": 128,
     "metadata": {},
     "output_type": "execute_result"
    }
   ],
   "source": [
    "os = 20;\n",
    "ζ = -log(os/100)/sqrt( π^2 + log(os/100)^2 )"
   ]
  },
  {
   "cell_type": "code",
   "execution_count": 129,
   "id": "62d3416d-4c8a-4952-abe2-365132d8ab15",
   "metadata": {},
   "outputs": [
    {
     "data": {
      "text/plain": [
       "4.417756690959335"
      ]
     },
     "execution_count": 129,
     "metadata": {},
     "output_type": "execute_result"
    }
   ],
   "source": [
    "Ts = 2;\n",
    "# ω_n = -log(0.02*sqrt(1-ζ^2)) / (ζ * Ts);\n",
    "ω_n = -log(0.02*sqrt(1-ζ^2)) / (ζ * Ts)# No Approximaition"
   ]
  },
  {
   "cell_type": "code",
   "execution_count": 130,
   "id": "bd73075d-641d-4fed-9512-5863bdc43acf",
   "metadata": {},
   "outputs": [
    {
     "data": {
      "text/plain": [
       "2-element Vector{ComplexF64}:\n",
       " -2.0142753272669496 - 3.931827703051037im\n",
       " -2.0142753272669496 + 3.931827703051037im"
      ]
     },
     "execution_count": 130,
     "metadata": {},
     "output_type": "execute_result"
    }
   ],
   "source": [
    "# Desired Pole Location Based on Transient Requirement\n",
    "pole_loc = roots( Polynomial([ω_n^2, 2*ζ*ω_n, 1]) )"
   ]
  },
  {
   "cell_type": "code",
   "execution_count": 137,
   "id": "33f55287-9e61-4a04-b721-b1e0678b06c5",
   "metadata": {},
   "outputs": [
    {
     "data": {
      "text/html": [
       "117.09944508309583 &#43; 43.68787810771937&#8729;x &#43; 10.028550654533898&#8729;x<sup>2</sup> &#43; 1.0&#8729;x<sup>3</sup>"
      ],
      "text/latex": [
       "$117.09944508309583 + 43.68787810771937\\cdot x + 10.028550654533898\\cdot x^{2} + 1.0\\cdot x^{3}$"
      ],
      "text/plain": [
       "Polynomial(117.09944508309583 + 43.68787810771937*x + 10.028550654533898*x^2 + 1.0*x^3)"
      ]
     },
     "execution_count": 137,
     "metadata": {},
     "output_type": "execute_result"
    }
   ],
   "source": [
    "# Desired Characteristic Equation Based on Transient Requirements\n",
    "pole_choice = -6\n",
    "pole_sys = fromroots([pole_choice, pole_loc[1], pole_loc[2]]) # one-indexing for the input, zero indexing for output???"
   ]
  },
  {
   "cell_type": "code",
   "execution_count": 138,
   "id": "9fb0c009-ca5e-4ce5-9651-c331a17437f0",
   "metadata": {},
   "outputs": [
    {
     "data": {
      "text/plain": [
       "3-element Vector{Float64}:\n",
       " -386.9005549169042\n",
       " -147.31212189228063\n",
       "  -13.971449345466102"
      ]
     },
     "execution_count": 138,
     "metadata": {},
     "output_type": "execute_result"
    }
   ],
   "source": [
    "Kx = Ax[3, :] + [pole_sys[0]; pole_sys[1]; pole_sys[2]]"
   ]
  },
  {
   "cell_type": "code",
   "execution_count": 139,
   "id": "3d2648c9-e097-494e-9211-4bbeb24afdaf",
   "metadata": {},
   "outputs": [
    {
     "data": {
      "text/plain": [
       "1×3 adjoint(::Vector{Float64}) with eltype Float64:\n",
       " -40.3167  62.2596  -13.9714"
      ]
     },
     "execution_count": 139,
     "metadata": {},
     "output_type": "execute_result"
    }
   ],
   "source": [
    "Kz = Kx' * inv(P)"
   ]
  },
  {
   "cell_type": "code",
   "execution_count": null,
   "id": "d13a397e-3340-47e8-9e00-77642ba5bf1e",
   "metadata": {},
   "outputs": [],
   "source": []
  }
 ],
 "metadata": {
  "kernelspec": {
   "display_name": "Julia 1.10.1",
   "language": "julia",
   "name": "julia-1.10"
  },
  "language_info": {
   "file_extension": ".jl",
   "mimetype": "application/julia",
   "name": "julia",
   "version": "1.10.1"
  }
 },
 "nbformat": 4,
 "nbformat_minor": 5
}
