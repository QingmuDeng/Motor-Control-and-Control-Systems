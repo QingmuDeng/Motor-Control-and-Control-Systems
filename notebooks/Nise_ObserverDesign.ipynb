{
 "cells": [
  {
   "cell_type": "code",
   "execution_count": 1,
   "id": "7a52f590-b2a0-4c3f-a50a-ef11f77eb26c",
   "metadata": {},
   "outputs": [],
   "source": [
    "using LinearAlgebra\n",
    "using ControlSystems\n",
    "using Polynomials\n",
    "\n",
    "# https://juliamath.github.io/Polynomials.jl/stable/\n",
    "# https://docs.julialang.org/en/v1/manual/complex-and-rational-numbers/"
   ]
  },
  {
   "cell_type": "code",
   "execution_count": 2,
   "id": "bf1569e2-9901-452f-8b22-fd027c7667f2",
   "metadata": {},
   "outputs": [
    {
     "data": {
      "text/html": [
       "504 &#43; 191&#8729;x &#43; 24&#8729;x<sup>2</sup> &#43; x<sup>3</sup>"
      ],
      "text/latex": [
       "$504 + 191\\cdot x + 24\\cdot x^{2} + x^{3}$"
      ],
      "text/plain": [
       "Polynomial(504 + 191*x + 24*x^2 + x^3)"
      ]
     },
     "execution_count": 2,
     "metadata": {},
     "output_type": "execute_result"
    }
   ],
   "source": [
    "fromroots([-7, -8, -9])"
   ]
  },
  {
   "cell_type": "code",
   "execution_count": 3,
   "id": "502920ef-1964-4886-9955-67c84ff64a3e",
   "metadata": {},
   "outputs": [
    {
     "data": {
      "text/plain": [
       "1×3 Matrix{Int64}:\n",
       " 1  0  0"
      ]
     },
     "execution_count": 3,
     "metadata": {},
     "output_type": "execute_result"
    }
   ],
   "source": [
    "A = [-24 1 0; -191 0 1; -504 0 0]\n",
    "B = [0; 1; 6]\n",
    "C = [1 0 0]"
   ]
  },
  {
   "cell_type": "code",
   "execution_count": 4,
   "id": "e051134c-53a9-479f-86be-750d7cf12c5c",
   "metadata": {},
   "outputs": [
    {
     "data": {
      "text/plain": [
       "3×3 Matrix{Int64}:\n",
       "   1    0  0\n",
       " -24    1  0\n",
       " 385  -24  1"
      ]
     },
     "execution_count": 4,
     "metadata": {},
     "output_type": "execute_result"
    }
   ],
   "source": [
    "Om = [C; C*A; C*A^2]\n",
    "Om"
   ]
  },
  {
   "cell_type": "code",
   "execution_count": 5,
   "id": "1d0fd3cf-aad5-40ed-b03a-a1ef534c4b0e",
   "metadata": {},
   "outputs": [
    {
     "data": {
      "text/plain": [
       "3"
      ]
     },
     "execution_count": 5,
     "metadata": {},
     "output_type": "execute_result"
    }
   ],
   "source": [
    "rank(Om)"
   ]
  },
  {
   "cell_type": "code",
   "execution_count": 6,
   "id": "f112048d-ff24-42ce-ba41-369754c4ab42",
   "metadata": {},
   "outputs": [
    {
     "data": {
      "text/plain": [
       "3×3 Matrix{Int64}:\n",
       "   1    0  0\n",
       " -24    1  0\n",
       " 385  -24  1"
      ]
     },
     "execution_count": 6,
     "metadata": {},
     "output_type": "execute_result"
    }
   ],
   "source": [
    "obsv(A,C)"
   ]
  },
  {
   "cell_type": "code",
   "execution_count": 7,
   "id": "b0cea63d-3a68-4b05-b9b6-f515d6b1d8f1",
   "metadata": {},
   "outputs": [
    {
     "data": {
      "text/plain": [
       "0.4559498107691261"
      ]
     },
     "execution_count": 7,
     "metadata": {},
     "output_type": "execute_result"
    }
   ],
   "source": [
    "# From Percentage Overshoot to Damping Ratio\n",
    "os = 20;\n",
    "ζ = -log(os/100)/sqrt( π^2 + log(os/100)^2 )"
   ]
  },
  {
   "cell_type": "code",
   "execution_count": 8,
   "id": "87be001a-93e4-47cd-9bb1-3a949c490aee",
   "metadata": {},
   "outputs": [
    {
     "data": {
      "text/plain": [
       "4.417756690959335"
      ]
     },
     "execution_count": 8,
     "metadata": {},
     "output_type": "execute_result"
    }
   ],
   "source": [
    "# From Settling Time and Damping Ratio to Natural Frequency\n",
    "Ts = 2;\n",
    "# ω_n = -log(0.02*sqrt(1-ζ^2)) / (ζ * Ts);\n",
    "ω_n = -log(0.02*sqrt(1-ζ^2)) / (ζ * Ts)# No Approximaition"
   ]
  },
  {
   "cell_type": "code",
   "execution_count": 9,
   "id": "bd4098f7-8282-4606-9bb5-9c07e4df1453",
   "metadata": {},
   "outputs": [
    {
     "data": {
      "text/plain": [
       "2-element Vector{ComplexF64}:\n",
       " -2.0142753272669496 - 3.931827703051037im\n",
       " -2.0142753272669496 + 3.931827703051037im"
      ]
     },
     "execution_count": 9,
     "metadata": {},
     "output_type": "execute_result"
    }
   ],
   "source": [
    "# Desired Pole Location Based on Transient Requirement\n",
    "pole_loc = roots( Polynomial([ω_n^2, 2*ζ*ω_n, 1]) )"
   ]
  },
  {
   "cell_type": "code",
   "execution_count": 10,
   "id": "9a7e4058-a3ca-4e41-ba3f-105fc0eb1555",
   "metadata": {},
   "outputs": [
    {
     "data": {
      "text/plain": [
       "2-element Vector{ComplexF64}:\n",
       " -20.142753272669495 - 39.31827703051037im\n",
       " -20.142753272669495 + 39.31827703051037im"
      ]
     },
     "execution_count": 10,
     "metadata": {},
     "output_type": "execute_result"
    }
   ],
   "source": [
    "# Observe needs to be N times faster than the closed loop response\n",
    "N = 10\n",
    "pole_obvs = pole_loc*N"
   ]
  },
  {
   "cell_type": "code",
   "execution_count": 20,
   "id": "21ee0a16-a44d-40fb-9c90-2fe98597b29c",
   "metadata": {},
   "outputs": [
    {
     "data": {
      "text/html": [
       "393117.5384458851 &#43; 10066.267606124351&#8729;x &#43; 241.71303927203394&#8729;x<sup>2</sup> &#43; 1.0&#8729;x<sup>3</sup>"
      ],
      "text/latex": [
       "$393117.5384458851 + 10066.267606124351\\cdot x + 241.71303927203394\\cdot x^{2} + 1.0\\cdot x^{3}$"
      ],
      "text/plain": [
       "Polynomial(393117.5384458851 + 10066.267606124351*x + 241.71303927203394*x^2 + 1.0*x^3)"
      ]
     },
     "execution_count": 20,
     "metadata": {},
     "output_type": "execute_result"
    }
   ],
   "source": [
    "pole_choice = N*real(pole_loc[1]) # 10 times faster than the real part of the dominant second order pole\n",
    "pole_choice_obvs = pole_choice*N\n",
    "eqn_char_desired = fromroots([pole_choice_obvs,pole_obvs[1],pole_obvs[2]])"
   ]
  },
  {
   "cell_type": "code",
   "execution_count": 25,
   "id": "1f1cad76-8bf8-44a2-82a5-8916df4d2287",
   "metadata": {},
   "outputs": [
    {
     "data": {
      "text/plain": [
       "3-element Vector{Float64}:\n",
       "    217.71303927203394\n",
       "   9875.267606124351\n",
       " 392613.5384458851"
      ]
     },
     "execution_count": 25,
     "metadata": {},
     "output_type": "execute_result"
    }
   ],
   "source": [
    "L = A[:,1]+[eqn_char_desired[2]; eqn_char_desired[1]; eqn_char_desired[0]]"
   ]
  },
  {
   "cell_type": "code",
   "execution_count": 26,
   "id": "dfaea1aa-129e-4cb6-b083-15e5eee337f7",
   "metadata": {},
   "outputs": [
    {
     "data": {
      "text/plain": [
       "3×3 Matrix{Float64}:\n",
       "   -241.713      1.0  0.0\n",
       " -10066.3        0.0  1.0\n",
       "     -3.93118e5  0.0  0.0"
      ]
     },
     "execution_count": 26,
     "metadata": {},
     "output_type": "execute_result"
    }
   ],
   "source": [
    "A-L*C"
   ]
  },
  {
   "cell_type": "markdown",
   "id": "19f077fc-6fca-480d-8bcf-9f31ab764258",
   "metadata": {},
   "source": [
    "## Simulate a ramp response with non-zero initial error"
   ]
  },
  {
   "cell_type": "code",
   "execution_count": 34,
   "id": "8482280c-427c-466b-9beb-b2d5b508617a",
   "metadata": {},
   "outputs": [
    {
     "data": {
      "text/plain": [
       "StateSpace{Continuous, Float64}\n",
       "A = \n",
       "    -241.71303927203394  1.0  0.0\n",
       "  -10066.267606124351    0.0  1.0\n",
       " -393117.5384458851      0.0  0.0\n",
       "B = \n",
       " 0.0\n",
       " 0.0\n",
       " 0.0\n",
       "C = \n",
       " 1.0  0.0  0.0\n",
       "D = \n",
       " 0.0\n",
       "\n",
       "Continuous-time state-space model"
      ]
     },
     "execution_count": 34,
     "metadata": {},
     "output_type": "execute_result"
    }
   ],
   "source": [
    "using ControlSystems\n",
    "using LinearAlgebra: I\n",
    "using Plots\n",
    "\n",
    "A = A\n",
    "Bo = [0;0;0]\n",
    "C = C\n",
    "L = L\n",
    "sys = ss(A-L*C,Bo,C,0)"
   ]
  },
  {
   "cell_type": "code",
   "execution_count": 74,
   "id": "f8110f88-47b1-454c-bfa8-99278d1cff7d",
   "metadata": {},
   "outputs": [
    {
     "ename": "LoadError",
     "evalue": "Expects 51 elements in each col of y, found 1.",
     "output_type": "error",
     "traceback": [
      "Expects 51 elements in each col of y, found 1.",
      "",
      "Stacktrace:",
      "  [1] error(s::String)",
      "    @ Base ./error.jl:35",
      "  [2] _compute_xyz(x::StepRangeLen{Float64, Base.TwicePrecision{Float64}, Base.TwicePrecision{Float64}, Int64}, y::Vector{Float64}, z::Nothing, nice_error::Bool)",
      "    @ RecipesPipeline ~/.julia/packages/RecipesPipeline/BGM3l/src/series.jl:90",
      "  [3] macro expansion",
      "    @ ~/.julia/packages/RecipesPipeline/BGM3l/src/series.jl:140 [inlined]",
      "  [4] apply_recipe(plotattributes::AbstractDict{Symbol, Any}, ::Type{RecipesPipeline.SliceIt}, x::Any, y::Any, z::Any)",
      "    @ RecipesPipeline ~/.julia/packages/RecipesBase/BRe07/src/RecipesBase.jl:300",
      "  [5] _process_userrecipes!(plt::Any, plotattributes::Any, args::Any)",
      "    @ RecipesPipeline ~/.julia/packages/RecipesPipeline/BGM3l/src/user_recipe.jl:38",
      "  [6] recipe_pipeline!(plt::Any, plotattributes::Any, args::Any)",
      "    @ RecipesPipeline ~/.julia/packages/RecipesPipeline/BGM3l/src/RecipesPipeline.jl:72",
      "  [7] _plot!(plt::Plots.Plot, plotattributes::Any, args::Any)",
      "    @ Plots ~/.julia/packages/Plots/HyyIK/src/plot.jl:223",
      "  [8] #plot#188",
      "    @ ~/.julia/packages/Plots/HyyIK/src/plot.jl:102 [inlined]",
      "  [9] plot(::Any, ::Any)",
      "    @ Plots ~/.julia/packages/Plots/HyyIK/src/plot.jl:93",
      " [10] top-level scope",
      "    @ In[74]:6"
     ]
    }
   ],
   "source": [
    "u(x,t) = [t]\n",
    "t  = 0:0.01:0.5\n",
    "# u(x,t) = t\n",
    "x0 = [1;0;0]\n",
    "y, t, x, uout = lsim(sys, u, t, x0=x0)\n",
    "plot(t,y)#, lab=[\"Position\" \"Velocity\"], xlabel=\"Time [s]\")"
   ]
  },
  {
   "cell_type": "code",
   "execution_count": 75,
   "id": "4182df92-769c-4c94-8b69-a8c00106c2ff",
   "metadata": {},
   "outputs": [
    {
     "data": {
      "text/plain": [
       "1×51 Matrix{Float64}:\n",
       " 1.0  -0.0402167  -0.157638  -0.134955  …  -1.26269e-5  -1.13072e-5"
      ]
     },
     "execution_count": 75,
     "metadata": {},
     "output_type": "execute_result"
    }
   ],
   "source": [
    "y"
   ]
  },
  {
   "cell_type": "code",
   "execution_count": 72,
   "id": "ed8e07c3-e88a-47e1-8e67-62a05aba6ac3",
   "metadata": {},
   "outputs": [
    {
     "ename": "LoadError",
     "evalue": "UndefVarError: `None` not defined",
     "output_type": "error",
     "traceback": [
      "UndefVarError: `None` not defined",
      "",
      "Stacktrace:",
      " [1] top-level scope",
      "   @ In[72]:1"
     ]
    }
   ],
   "source": [
    "u = None"
   ]
  },
  {
   "cell_type": "code",
   "execution_count": 60,
   "id": "12bbdd41-829c-4619-95a1-8d78ea7f8822",
   "metadata": {},
   "outputs": [
    {
     "data": {
      "text/plain": [
       "u (generic function with 2 methods)"
      ]
     },
     "execution_count": 60,
     "metadata": {},
     "output_type": "execute_result"
    }
   ],
   "source": [
    "u(x,t) =  t"
   ]
  },
  {
   "cell_type": "code",
   "execution_count": 63,
   "id": "9dfe83ab-d58e-49c7-bece-4e02495b1525",
   "metadata": {},
   "outputs": [
    {
     "data": {
      "text/plain": [
       "0.0:0.002512562814070352:0.5"
      ]
     },
     "execution_count": 63,
     "metadata": {},
     "output_type": "execute_result"
    }
   ],
   "source": [
    "range(0,stop=0.5,length=200)"
   ]
  },
  {
   "cell_type": "code",
   "execution_count": 49,
   "id": "43b5d70a-1a19-4b41-b0f0-383295cb089c",
   "metadata": {},
   "outputs": [
    {
     "ename": "LoadError",
     "evalue": "MethodError: no method matching getindex(::typeof(u), ::Int64)",
     "output_type": "error",
     "traceback": [
      "MethodError: no method matching getindex(::typeof(u), ::Int64)",
      "",
      "Stacktrace:",
      " [1] top-level scope",
      "   @ In[49]:1"
     ]
    }
   ],
   "source": [
    "u[1]"
   ]
  },
  {
   "cell_type": "code",
   "execution_count": null,
   "id": "268aa0a8-67d9-469b-9108-d7a608e133c9",
   "metadata": {},
   "outputs": [],
   "source": []
  }
 ],
 "metadata": {
  "kernelspec": {
   "display_name": "Julia 1.10.1",
   "language": "julia",
   "name": "julia-1.10"
  },
  "language_info": {
   "file_extension": ".jl",
   "mimetype": "application/julia",
   "name": "julia",
   "version": "1.10.1"
  }
 },
 "nbformat": 4,
 "nbformat_minor": 5
}
